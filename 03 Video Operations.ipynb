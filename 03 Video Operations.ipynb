{
 "cells": [
  {
   "cell_type": "code",
   "execution_count": 1,
   "id": "a06a2ae8-b086-4a5a-8216-5d35314ea26d",
   "metadata": {},
   "outputs": [],
   "source": [
    "import cv2\n",
    "import matplotlib.pyplot as plt"
   ]
  },
  {
   "cell_type": "code",
   "execution_count": 2,
   "id": "e004a713-45c2-4be9-85e1-58573a13e969",
   "metadata": {},
   "outputs": [],
   "source": [
    "#load the video\n",
    "vid = cv2.VideoCapture('../images/robots.mp4')"
   ]
  },
  {
   "cell_type": "code",
   "execution_count": 3,
   "id": "d932d221-c01d-4a15-904e-2df2f478953a",
   "metadata": {},
   "outputs": [],
   "source": [
    "#extract the frame\n",
    "ret, frame = vid.read()"
   ]
  },
  {
   "cell_type": "code",
   "execution_count": 4,
   "id": "d45d90c2-1072-4a3a-b216-4f00641dd818",
   "metadata": {},
   "outputs": [
    {
     "data": {
      "text/plain": [
       "True"
      ]
     },
     "execution_count": 4,
     "metadata": {},
     "output_type": "execute_result"
    }
   ],
   "source": [
    "ret"
   ]
  },
  {
   "cell_type": "code",
   "execution_count": 5,
   "id": "5e053b5f-47e2-4661-9fcf-79426b94d2cc",
   "metadata": {
    "scrolled": true
   },
   "outputs": [
    {
     "data": {
      "text/plain": [
       "array([[[ 19,  14,  13],\n",
       "        [ 19,  14,  13],\n",
       "        [ 19,  14,  13],\n",
       "        ...,\n",
       "        [ 48,  43,  23],\n",
       "        [ 48,  43,  23],\n",
       "        [ 48,  43,  23]],\n",
       "\n",
       "       [[ 19,  14,  13],\n",
       "        [ 19,  14,  13],\n",
       "        [ 19,  14,  13],\n",
       "        ...,\n",
       "        [ 48,  43,  23],\n",
       "        [ 48,  43,  23],\n",
       "        [ 48,  43,  23]],\n",
       "\n",
       "       [[ 19,  14,  13],\n",
       "        [ 19,  14,  13],\n",
       "        [ 19,  14,  13],\n",
       "        ...,\n",
       "        [ 48,  43,  23],\n",
       "        [ 48,  43,  23],\n",
       "        [ 48,  43,  23]],\n",
       "\n",
       "       ...,\n",
       "\n",
       "       [[164, 167, 178],\n",
       "        [164, 167, 178],\n",
       "        [164, 167, 178],\n",
       "        ...,\n",
       "        [142, 143, 161],\n",
       "        [142, 143, 161],\n",
       "        [142, 143, 161]],\n",
       "\n",
       "       [[164, 167, 178],\n",
       "        [164, 167, 178],\n",
       "        [164, 167, 178],\n",
       "        ...,\n",
       "        [142, 143, 161],\n",
       "        [142, 143, 161],\n",
       "        [142, 143, 161]],\n",
       "\n",
       "       [[164, 167, 178],\n",
       "        [164, 167, 178],\n",
       "        [164, 167, 178],\n",
       "        ...,\n",
       "        [143, 144, 162],\n",
       "        [143, 144, 162],\n",
       "        [143, 144, 162]]], dtype=uint8)"
      ]
     },
     "execution_count": 5,
     "metadata": {},
     "output_type": "execute_result"
    }
   ],
   "source": [
    "frame"
   ]
  },
  {
   "cell_type": "code",
   "execution_count": 6,
   "id": "081815e8-0882-4179-9726-ec526a8bde24",
   "metadata": {},
   "outputs": [
    {
     "data": {
      "text/plain": [
       "(640, 640, 3)"
      ]
     },
     "execution_count": 6,
     "metadata": {},
     "output_type": "execute_result"
    }
   ],
   "source": [
    "frame.shape"
   ]
  },
  {
   "cell_type": "code",
   "execution_count": 7,
   "id": "2e5dda5f-68ef-4451-a1ee-0517b5d97a91",
   "metadata": {},
   "outputs": [],
   "source": [
    "cv2.imshow('First Frame', frame)\n",
    "cv2.waitKey(0)\n",
    "cv2.destroyAllWindows()"
   ]
  },
  {
   "cell_type": "code",
   "execution_count": 8,
   "id": "3f18369e-8dbb-4856-ab98-4039a4a85e4b",
   "metadata": {},
   "outputs": [],
   "source": [
    "width = int(vid.get(cv2.CAP_PROP_FRAME_WIDTH))\n",
    "height = int(vid.get(cv2.CAP_PROP_FRAME_HEIGHT))\n",
    "frames = int(vid.get(cv2.CAP_PROP_FRAME_COUNT))\n",
    "fps = int(vid.get(cv2.CAP_PROP_FPS))"
   ]
  },
  {
   "cell_type": "code",
   "execution_count": 9,
   "id": "7b86200c-1388-4538-afaa-350c33d0931e",
   "metadata": {},
   "outputs": [
    {
     "name": "stdout",
     "output_type": "stream",
     "text": [
      "Video Resolution :  640 640\n",
      "Total Frames :  1799\n",
      "FPS :  30\n"
     ]
    }
   ],
   "source": [
    "print('Video Resolution : ', height, width)\n",
    "print('Total Frames : ', frames)\n",
    "print('FPS : ', fps)"
   ]
  },
  {
   "cell_type": "code",
   "execution_count": 10,
   "id": "431fd8f7-abf1-411d-ba7b-65e25f6c36ad",
   "metadata": {},
   "outputs": [
    {
     "data": {
      "text/plain": [
       "59.96666666666667"
      ]
     },
     "execution_count": 10,
     "metadata": {},
     "output_type": "execute_result"
    }
   ],
   "source": [
    "frames/fps     #video length"
   ]
  },
  {
   "cell_type": "code",
   "execution_count": 11,
   "id": "305bb16d-129a-40c4-b94a-07d9bd4ed999",
   "metadata": {},
   "outputs": [],
   "source": [
    "vid = cv2.VideoCapture('../images/robots.mp4')\n",
    "while True :\n",
    "    ret, frame = vid.read()\n",
    "    if not ret:\n",
    "        break\n",
    "    #Process the frame (e.g., apply the filters, detect objects)\n",
    "    cv2.imshow('Video', frame)\n",
    "    if cv2.waitKey(5) == ord('q'):\n",
    "        break\n",
    "cv2.destroyAllWindows()"
   ]
  },
  {
   "cell_type": "markdown",
   "id": "c64d4110-4c98-46b8-94aa-c7894962ce87",
   "metadata": {},
   "source": [
    "### capture the images and save"
   ]
  },
  {
   "cell_type": "code",
   "execution_count": 12,
   "id": "e897402e-090c-4de3-ae3e-00c713c41226",
   "metadata": {},
   "outputs": [],
   "source": [
    "vid = cv2.VideoCapture('../images/robots.mp4')\n",
    "# get the first frame and see if successful\n",
    "\n",
    "success, frame = vid.read()\n",
    "# initiate count\n",
    "count = 1\n",
    "while success:\n",
    "    cv2.imwrite(f'../video_frames/{count}.jpg', frame)\n",
    "    success, frame = vid.read()\n",
    "    count+=1"
   ]
  },
  {
   "cell_type": "markdown",
   "id": "d484a8e3-5786-4a6a-8fad-f851f81c73f9",
   "metadata": {},
   "source": [
    "### Working with timestamp"
   ]
  },
  {
   "cell_type": "code",
   "execution_count": 13,
   "id": "cc03d971-6b29-4e92-b3f7-99289920b713",
   "metadata": {},
   "outputs": [
    {
     "name": "stdout",
     "output_type": "stream",
     "text": [
      "0.0 0.0 43.0\n"
     ]
    }
   ],
   "source": [
    "# get frame at a specific timestamp\n",
    "timestamp = '00:00:43.00'  # hh:mm:ss.ms\n",
    "hours, minutes, seconds = [float(i) for i in timestamp.split(':')]\n",
    "print(hours, minutes, seconds)"
   ]
  },
  {
   "cell_type": "code",
   "execution_count": 14,
   "id": "45dfc177-e9d3-4043-8cc8-15a5361e81f1",
   "metadata": {},
   "outputs": [
    {
     "data": {
      "text/plain": [
       "['00', '00', '43.00']"
      ]
     },
     "execution_count": 14,
     "metadata": {},
     "output_type": "execute_result"
    }
   ],
   "source": [
    "timestamp = '00:00:43.00'\n",
    "timestamp.split(':')"
   ]
  },
  {
   "cell_type": "code",
   "execution_count": 15,
   "id": "39988ec6-88c1-4519-a311-aa3d91ec7da8",
   "metadata": {},
   "outputs": [
    {
     "name": "stdout",
     "output_type": "stream",
     "text": [
      "1799 1290.0\n"
     ]
    }
   ],
   "source": [
    "# get number of frames up to timestamp\n",
    "trigger_frame = hours * 3600 * fps + minutes * 60 * fps + seconds * fps\n",
    "print(frames, trigger_frame)"
   ]
  },
  {
   "cell_type": "code",
   "execution_count": 16,
   "id": "79b3eb8a-810b-471e-921c-6bf4e377783b",
   "metadata": {},
   "outputs": [],
   "source": [
    "# go to frame selected by timestamp\n",
    "vid.set(1, trigger_frame)\n",
    "success, frame = vid.read()\n",
    "\n",
    "# save the frame into an image file\n",
    "if success:\n",
    "    cv2.imwrite('success.jpg', frame)"
   ]
  },
  {
   "cell_type": "markdown",
   "id": "4cc725b1-73a3-4d4e-88be-e7e728724776",
   "metadata": {},
   "source": [
    "### Capture using camera"
   ]
  },
  {
   "cell_type": "code",
   "execution_count": 17,
   "id": "20111809-16f8-4498-b39e-bbb3638d37d4",
   "metadata": {},
   "outputs": [
    {
     "data": {
      "text/plain": [
       "False"
      ]
     },
     "execution_count": 17,
     "metadata": {},
     "output_type": "execute_result"
    }
   ],
   "source": [
    "vid  = cv2.VideoCapture(0)\n",
    "vid.isOpened()  #no camera"
   ]
  },
  {
   "cell_type": "code",
   "execution_count": 18,
   "id": "36a1e3e4-04aa-4c98-b553-185b91bbbf3a",
   "metadata": {},
   "outputs": [],
   "source": [
    "success, frame = vid.read()\n",
    "vid.release()"
   ]
  },
  {
   "cell_type": "code",
   "execution_count": 19,
   "id": "e2eb32ba-c22a-46df-988d-03daec897af8",
   "metadata": {},
   "outputs": [],
   "source": [
    "cap = cv2.VideoCapture(0)\n",
    "\n",
    "# read until video is completed\n",
    "while(cap.isOpened()):\n",
    "    # capture frame-by-frame\n",
    "    ret, frame = cap.read()\n",
    "    if ret == True:\n",
    "        # display th resulting frame\n",
    "        cv2.imshow('Frame', frame)\n",
    "        # press Q on keyboard to exit\n",
    "        if cv2.waitKey(1) & 0xFF == ord('q'):\n",
    "            break\n",
    "    else:\n",
    "        break\n",
    "# when everything done, release the video capture object\n",
    "cap.release()\n",
    "# closes all the frames\n",
    "cv2.destroyAllWindows()"
   ]
  }
 ],
 "metadata": {
  "kernelspec": {
   "display_name": "Python 3 (ipykernel)",
   "language": "python",
   "name": "python3"
  },
  "language_info": {
   "codemirror_mode": {
    "name": "ipython",
    "version": 3
   },
   "file_extension": ".py",
   "mimetype": "text/x-python",
   "name": "python",
   "nbconvert_exporter": "python",
   "pygments_lexer": "ipython3",
   "version": "3.11.7"
  }
 },
 "nbformat": 4,
 "nbformat_minor": 5
}
