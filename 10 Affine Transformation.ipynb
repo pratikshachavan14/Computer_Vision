{
 "cells": [
  {
   "cell_type": "code",
   "execution_count": null,
   "id": "3f899e46-92c9-446a-ad0f-a559c234c71d",
   "metadata": {},
   "outputs": [],
   "source": [
    "import cv2\n",
    "import numpy as np"
   ]
  },
  {
   "cell_type": "code",
   "execution_count": 11,
   "id": "011bf5b6-6d2d-4eba-acdc-bba906aa6092",
   "metadata": {},
   "outputs": [],
   "source": [
    "# Load the image\n",
    "image = cv2.imread('../images/lenna.png')\n",
    "\n",
    "# define transformation parametes\n",
    "tx = 50 # translation along x-axis\n",
    "ty = 100 # translation along y-axis\n",
    "angle = 45 # Rotation angle in degrees\n",
    "scale = 1.2 # scaling factor\n",
    "shear_x = 0.3 # shear along x-axis\n",
    "shear_y = 0.2 # shear along y-axis\n",
    "\n",
    "#create transformation matrix\n",
    "M = np.float32([[scale*np.cos(np.radians(angle)), shear_x, tx],\n",
    "               [shear_y, scale*np.sin(np.radians(angle)), ty]])\n",
    "\n",
    "# apply transformation using warpAffine\n",
    "img_affine = cv2.warpAffine(image, M, (512, 512))\n",
    "\n",
    "cv2.imshow('Affine Image', img_affine)\n",
    "cv2.waitKey(0)\n",
    "cv2.destroyAllWindows()\n"
   ]
  },
  {
   "cell_type": "code",
   "execution_count": 2,
   "id": "b106ecd2-87de-4e7e-87ed-d969d8a081d1",
   "metadata": {},
   "outputs": [
    {
     "data": {
      "text/plain": [
       "(512, 512, 3)"
      ]
     },
     "execution_count": 2,
     "metadata": {},
     "output_type": "execute_result"
    }
   ],
   "source": [
    "img_affine.shape"
   ]
  },
  {
   "cell_type": "code",
   "execution_count": 10,
   "id": "88b73004-3039-4bd8-8dac-d747c510c89a",
   "metadata": {},
   "outputs": [],
   "source": [
    "# Load the image\n",
    "image = cv2.imread('../images/lenna.png')\n",
    "\n",
    "# define transformation parametes\n",
    "tx = 50 # translation along x-axis\n",
    "ty = 100 # translation along y-axis\n",
    "angle = 45 # Rotation angle in degrees\n",
    "scale = 1.2 # scaling factor\n",
    "shear_x = 0.3 # shear along x-axis\n",
    "shear_y = 0.2 # shear along y-axis\n",
    "\n",
    "#create transformation matrix\n",
    "M = np.float32([[scale*np.cos(np.radians(angle)), shear_x, tx],\n",
    "               [shear_y, scale*np.sin(np.radians(angle)), ty]])\n",
    "\n",
    "# apply transformation using warpAffine\n",
    "img_affine = cv2.warpAffine(image, M, (200, 200))\n",
    "\n",
    "cv2.imshow('Affine Image', img_affine)\n",
    "cv2.waitKey(0)\n",
    "cv2.destroyAllWindows()\n"
   ]
  },
  {
   "cell_type": "code",
   "execution_count": 9,
   "id": "5d02233e-4b93-4a5f-b626-9a6daab323ce",
   "metadata": {},
   "outputs": [],
   "source": [
    "# changing size to 200, 200 and putting in a format given by sir\n",
    "img=cv2.imread('../images/lenna.png')\n",
    "\n",
    "\n",
    "tx=50\n",
    "ty=200\n",
    "angle=-20\n",
    "scale=200/512\n",
    "\n",
    "\n",
    "#Create transformation matrix\n",
    "M=np.float32([[scale*np.cos(np.radians(angle)),-np.sin(np.radians(angle)), tx],\n",
    "             [np.sin(np.radians(angle)), scale*np.cos(np.radians(angle)), ty]])\n",
    "\n",
    "#Apply transformation using wrapAffine\n",
    "imag_affine=cv2.warpAffine(img,M,(512,512))\n",
    "\n",
    "#display original and affine transformed images\n",
    "cv2.imshow('image',imag_affine)\n",
    "cv2.waitKey(0)\n",
    "cv2.destroyAllWindows()\n"
   ]
  }
 ],
 "metadata": {
  "kernelspec": {
   "display_name": "Python 3 (ipykernel)",
   "language": "python",
   "name": "python3"
  },
  "language_info": {
   "codemirror_mode": {
    "name": "ipython",
    "version": 3
   },
   "file_extension": ".py",
   "mimetype": "text/x-python",
   "name": "python",
   "nbconvert_exporter": "python",
   "pygments_lexer": "ipython3",
   "version": "3.11.7"
  }
 },
 "nbformat": 4,
 "nbformat_minor": 5
}
