{
 "cells": [
  {
   "cell_type": "code",
   "execution_count": 3,
   "metadata": {
    "id": "1fzKCLgyZADF"
   },
   "outputs": [],
   "source": [
    "from keras.preprocessing.image import load_img\n",
    "from keras.preprocessing.image import img_to_array\n",
    "from keras.applications.resnet50 import preprocess_input\n",
    "from keras.applications.resnet50 import decode_predictions\n",
    "from keras.applications.resnet50 import ResNet50\n",
    "from keras.utils import plot_model"
   ]
  },
  {
   "cell_type": "code",
   "execution_count": 4,
   "metadata": {
    "colab": {
     "base_uri": "https://localhost:8080/"
    },
    "id": "4lud4j-5p2ub",
    "outputId": "b83e4303-7866-4be5-ceaa-c7c2cf8108df"
   },
   "outputs": [
    {
     "name": "stdout",
     "output_type": "stream",
     "text": [
      "Downloading data from https://storage.googleapis.com/tensorflow/keras-applications/resnet/resnet50_weights_tf_dim_ordering_tf_kernels.h5\n",
      "102967424/102967424 [==============================] - 1s 0us/step\n",
      "1/1 [==============================] - 6s 6s/step\n",
      "Downloading data from https://storage.googleapis.com/download.tensorflow.org/data/imagenet_class_index.json\n",
      "35363/35363 [==============================] - 0s 0us/step\n"
     ]
    },
    {
     "data": {
      "text/plain": [
       "[[('n03763968', 'military_uniform', 0.3440131),\n",
       "  ('n02883205', 'bow_tie', 0.071461745),\n",
       "  ('n03630383', 'lab_coat', 0.046594355),\n",
       "  ('n02787622', 'banjo', 0.03648548),\n",
       "  ('n02786058', 'Band_Aid', 0.031072116)]]"
      ]
     },
     "execution_count": 4,
     "metadata": {},
     "output_type": "execute_result"
    }
   ],
   "source": [
    "image = load_img('adolf1.webp', target_size=(224, 224))\n",
    "image = img_to_array(image)\n",
    "image = image.reshape((1, image.shape[0], image.shape[1], image.shape[2]))\n",
    "image = preprocess_input(image)\n",
    "model = ResNet50()\n",
    "yhat = model.predict(image)\n",
    "label = decode_predictions(yhat)\n",
    "label"
   ]
  },
  {
   "cell_type": "code",
   "execution_count": 5,
   "metadata": {
    "colab": {
     "base_uri": "https://localhost:8080/"
    },
    "id": "A6twn7HNqlAY",
    "outputId": "932b3c69-d612-45ac-d0dd-72d2ce84f75a"
   },
   "outputs": [
    {
     "name": "stdout",
     "output_type": "stream",
     "text": [
      "1/1 [==============================] - 2s 2s/step\n"
     ]
    },
    {
     "data": {
      "text/plain": [
       "[[('n03065424', 'coil', 0.47114888),\n",
       "  ('n04040759', 'radiator', 0.2599545),\n",
       "  ('n04505470', 'typewriter_keyboard', 0.13004304),\n",
       "  ('n04523525', 'vault', 0.043229133),\n",
       "  ('n03271574', 'electric_fan', 0.006740177)]]"
      ]
     },
     "execution_count": 5,
     "metadata": {},
     "output_type": "execute_result"
    }
   ],
   "source": [
    "image = load_img('caves.jpg', target_size=(224, 224))\n",
    "image = img_to_array(image)\n",
    "image = image.reshape((1, image.shape[0], image.shape[1], image.shape[2]))\n",
    "image = preprocess_input(image)\n",
    "model = ResNet50()\n",
    "yhat = model.predict(image)\n",
    "label = decode_predictions(yhat)\n",
    "label"
   ]
  },
  {
   "cell_type": "code",
   "execution_count": 6,
   "metadata": {
    "colab": {
     "base_uri": "https://localhost:8080/"
    },
    "id": "c-0ZDfiCpP1r",
    "outputId": "ac4a16f2-e754-468e-b324-c4657de1ba11"
   },
   "outputs": [
    {
     "name": "stdout",
     "output_type": "stream",
     "text": [
      "1/1 [==============================] - 3s 3s/step\n"
     ]
    },
    {
     "data": {
      "text/plain": [
       "[[('n02892767', 'brassiere', 0.29500782),\n",
       "  ('n03124170', 'cowboy_hat', 0.20823447),\n",
       "  ('n02869837', 'bonnet', 0.064380966),\n",
       "  ('n03325584', 'feather_boa', 0.04862815),\n",
       "  ('n04584207', 'wig', 0.039554793)]]"
      ]
     },
     "execution_count": 6,
     "metadata": {},
     "output_type": "execute_result"
    }
   ],
   "source": [
    "image = load_img('lena.png', target_size=(224, 224))\n",
    "image = img_to_array(image)\n",
    "image = image.reshape((1, image.shape[0], image.shape[1], image.shape[2]))\n",
    "image = preprocess_input(image)\n",
    "model = ResNet50()\n",
    "yhat = model.predict(image)\n",
    "label = decode_predictions(yhat)\n",
    "label"
   ]
  },
  {
   "cell_type": "code",
   "execution_count": 7,
   "metadata": {
    "colab": {
     "base_uri": "https://localhost:8080/"
    },
    "id": "Nz9EQ84PrTWR",
    "outputId": "057b688a-720f-4adf-c3d4-5d5d231d0997"
   },
   "outputs": [
    {
     "name": "stdout",
     "output_type": "stream",
     "text": [
      "1/1 [==============================] - 2s 2s/step\n"
     ]
    },
    {
     "data": {
      "text/plain": [
       "[[('n03594734', 'jean', 0.3067835),\n",
       "  ('n04370456', 'sweatshirt', 0.03472424),\n",
       "  ('n02730930', 'apron', 0.03297458),\n",
       "  ('n02786058', 'Band_Aid', 0.031180933),\n",
       "  ('n02963159', 'cardigan', 0.02849967)]]"
      ]
     },
     "execution_count": 7,
     "metadata": {},
     "output_type": "execute_result"
    }
   ],
   "source": [
    "image = load_img('he.jpg', target_size=(224, 224))\n",
    "image = img_to_array(image)\n",
    "image = image.reshape((1, image.shape[0], image.shape[1], image.shape[2]))\n",
    "image = preprocess_input(image)\n",
    "model = ResNet50()\n",
    "yhat = model.predict(image)\n",
    "label = decode_predictions(yhat)\n",
    "label"
   ]
  }
 ],
 "metadata": {
  "colab": {
   "provenance": []
  },
  "kernelspec": {
   "display_name": "Python 3 (ipykernel)",
   "language": "python",
   "name": "python3"
  },
  "language_info": {
   "codemirror_mode": {
    "name": "ipython",
    "version": 3
   },
   "file_extension": ".py",
   "mimetype": "text/x-python",
   "name": "python",
   "nbconvert_exporter": "python",
   "pygments_lexer": "ipython3",
   "version": "3.11.7"
  }
 },
 "nbformat": 4,
 "nbformat_minor": 4
}
