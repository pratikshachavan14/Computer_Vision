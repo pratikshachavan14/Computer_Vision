{
 "cells": [
  {
   "cell_type": "code",
   "execution_count": 1,
   "id": "de3f34d5-94dc-4fd1-a74d-a95e69938f83",
   "metadata": {},
   "outputs": [],
   "source": [
    "import cv2\n",
    "\n",
    "# Load the image\n",
    "image = cv2.imread('../images/lenna.png')\n",
    "\n",
    "# Flip the image horizontally\n",
    "flipped_horizontal = cv2.flip(image, 0)\n",
    "\n",
    "# Flip the image vertically\n",
    "flipped_vertical = cv2.flip(image, 1)\n",
    "\n",
    "# Flip the image diagonally\n",
    "flipped_diagonal = cv2.flip(image, -1)\n",
    "\n",
    "# show the rotated image\n",
    "cv2.imshow(\"Original\", image)\n",
    "cv2.imshow(\"Horizontal Flip\", flipped_horizontal)\n",
    "cv2.imshow(\"Vertical Flip\", flipped_vertical)\n",
    "cv2.imshow(\"Diagonal Flip\", flipped_diagonal)\n",
    "cv2.waitKey(0)\n",
    "cv2.destroyAllWindows()"
   ]
  }
 ],
 "metadata": {
  "kernelspec": {
   "display_name": "Python 3 (ipykernel)",
   "language": "python",
   "name": "python3"
  },
  "language_info": {
   "codemirror_mode": {
    "name": "ipython",
    "version": 3
   },
   "file_extension": ".py",
   "mimetype": "text/x-python",
   "name": "python",
   "nbconvert_exporter": "python",
   "pygments_lexer": "ipython3",
   "version": "3.11.7"
  }
 },
 "nbformat": 4,
 "nbformat_minor": 5
}
