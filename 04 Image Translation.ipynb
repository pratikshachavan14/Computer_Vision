{
 "cells": [
  {
   "cell_type": "markdown",
   "id": "3df27a88-98cf-4f38-8d84-02d0a9f0c6e0",
   "metadata": {},
   "source": [
    "## 1. Translation"
   ]
  },
  {
   "cell_type": "code",
   "execution_count": 1,
   "id": "f6d9c967-23a1-49fd-89f2-93f6a7315666",
   "metadata": {},
   "outputs": [],
   "source": [
    "import cv2\n",
    "import matplotlib.pyplot as plt\n",
    "import numpy as np"
   ]
  },
  {
   "cell_type": "code",
   "execution_count": 4,
   "id": "69fdf2a4-399c-472b-85da-939d041d89ba",
   "metadata": {
    "scrolled": true
   },
   "outputs": [
    {
     "data": {
      "text/plain": [
       "array([[[  0,   0,   0],\n",
       "        [  0,   0,   0],\n",
       "        [  0,   0,   0],\n",
       "        ...,\n",
       "        [  0,   0,   0],\n",
       "        [  0,   0,   0],\n",
       "        [  0,   0,   0]],\n",
       "\n",
       "       [[  0,   0,   0],\n",
       "        [  0,   0,   0],\n",
       "        [  0,   0,   0],\n",
       "        ...,\n",
       "        [  0,   0,   0],\n",
       "        [  0,   0,   0],\n",
       "        [  0,   0,   0]],\n",
       "\n",
       "       [[  0,   0,   0],\n",
       "        [  0,   0,   0],\n",
       "        [  0,   0,   0],\n",
       "        ...,\n",
       "        [  0,   0,   0],\n",
       "        [  0,   0,   0],\n",
       "        [  0,   0,   0]],\n",
       "\n",
       "       ...,\n",
       "\n",
       "       [[  0,   0,   0],\n",
       "        [  0,   0,   0],\n",
       "        [  0,   0,   0],\n",
       "        ...,\n",
       "        [117, 133, 216],\n",
       "        [128, 141, 218],\n",
       "        [131, 145, 214]],\n",
       "\n",
       "       [[  0,   0,   0],\n",
       "        [  0,   0,   0],\n",
       "        [  0,   0,   0],\n",
       "        ...,\n",
       "        [120, 129, 214],\n",
       "        [125, 140, 213],\n",
       "        [131, 134, 209]],\n",
       "\n",
       "       [[  0,   0,   0],\n",
       "        [  0,   0,   0],\n",
       "        [  0,   0,   0],\n",
       "        ...,\n",
       "        [117, 129, 213],\n",
       "        [120, 138, 212],\n",
       "        [125, 134, 207]]], dtype=uint8)"
      ]
     },
     "execution_count": 4,
     "metadata": {},
     "output_type": "execute_result"
    }
   ],
   "source": [
    "image = cv2.imread('../images/lenna.png')\n",
    "\n",
    "# store height and width of the image\n",
    "height , width = image.shape[:2]\n",
    "\n",
    "quarter_height, quarter_width = height / 4, width / 4\n",
    "\n",
    "T = np.float32([[1, 0, quarter_width], [0, 1, quarter_height]])\n",
    "\n",
    "# we use warpAffine to transform the image using the matix, T\n",
    "img_translation = cv2.warpAffine(image, T, (width, height))\n",
    "img_translation"
   ]
  },
  {
   "cell_type": "code",
   "execution_count": 5,
   "id": "f82110a9-e322-4bc3-96e1-b0ae4143ba72",
   "metadata": {},
   "outputs": [],
   "source": [
    "cv2.imshow(\"Original Image\", image)\n",
    "cv2.imshow(\"Translated Image\", img_translation)\n",
    "cv2.waitKey(0)\n",
    "cv2.destroyAllWindows()"
   ]
  },
  {
   "cell_type": "code",
   "execution_count": 6,
   "id": "5ba274d3-0509-4fbf-acc9-766ec55d976f",
   "metadata": {},
   "outputs": [],
   "source": [
    "T = np.float32([[1, 0, -50], [0, 1, 100]])\n",
    "\n",
    "# we use warpAffine to transform the image using the matix, T\n",
    "img_translation = cv2.warpAffine(image, T, (width, height))\n",
    "\n",
    "cv2.imshow(\"Original Image\", image)\n",
    "cv2.imshow(\"Translated Image\", img_translation)\n",
    "cv2.waitKey(0)\n",
    "cv2.destroyAllWindows()"
   ]
  }
 ],
 "metadata": {
  "kernelspec": {
   "display_name": "Python 3 (ipykernel)",
   "language": "python",
   "name": "python3"
  },
  "language_info": {
   "codemirror_mode": {
    "name": "ipython",
    "version": 3
   },
   "file_extension": ".py",
   "mimetype": "text/x-python",
   "name": "python",
   "nbconvert_exporter": "python",
   "pygments_lexer": "ipython3",
   "version": "3.11.7"
  }
 },
 "nbformat": 4,
 "nbformat_minor": 5
}
