{
 "cells": [
  {
   "cell_type": "code",
   "execution_count": null,
   "id": "246f0eb2-5db1-4d76-804d-c4a7f8333f30",
   "metadata": {},
   "outputs": [],
   "source": [
    "import cv2\n",
    "import numpy as np"
   ]
  },
  {
   "cell_type": "code",
   "execution_count": 4,
   "id": "026f5ac5-f1c8-4c99-8d91-aaf10d48a603",
   "metadata": {},
   "outputs": [],
   "source": [
    "# Load the image\n",
    "image = cv2.imread('../images/lenna.png')\n",
    "\n",
    "# shearing factores\n",
    "shear_x = 0.03 # shear along x-axis\n",
    "shear_y = 0.25 # shear along y-axis\n",
    "\n",
    "#  transformation matrix\n",
    "M = np.array([[1, shear_x, 0],\n",
    "             [shear_y, 1, 0],\n",
    "             [0, 0, 1]])\n",
    "\n",
    "rows, cols, _ = image.shape\n",
    "T = np.float32([[1, 0, 0], [0, 1, 150]])\n",
    "\n",
    "## we use warpAffine to transform the image using the matix, T\n",
    "img_translation = cv2.warpAffine(image, T, (int(cols*1.5), int(rows*1.5)))\n",
    "sheared_img = cv2.warpPerspective(img_translation, M, (int(cols*1.5), int(rows*1.5)))\n",
    "\n",
    "cv2.imshow('Sheared Image', sheared_img)\n",
    "cv2.waitKey(0)\n",
    "cv2.destroyAllWindows()"
   ]
  },
  {
   "cell_type": "code",
   "execution_count": 5,
   "id": "9ef10429-788a-4d59-be56-c6c451e31d5f",
   "metadata": {},
   "outputs": [
    {
     "data": {
      "text/plain": [
       "array([[1.  , 0.03, 0.  ],\n",
       "       [0.25, 1.  , 0.  ],\n",
       "       [0.  , 0.  , 1.  ]])"
      ]
     },
     "execution_count": 5,
     "metadata": {},
     "output_type": "execute_result"
    }
   ],
   "source": [
    "M"
   ]
  }
 ],
 "metadata": {
  "kernelspec": {
   "display_name": "Python 3 (ipykernel)",
   "language": "python",
   "name": "python3"
  },
  "language_info": {
   "codemirror_mode": {
    "name": "ipython",
    "version": 3
   },
   "file_extension": ".py",
   "mimetype": "text/x-python",
   "name": "python",
   "nbconvert_exporter": "python",
   "pygments_lexer": "ipython3",
   "version": "3.11.7"
  }
 },
 "nbformat": 4,
 "nbformat_minor": 5
}
